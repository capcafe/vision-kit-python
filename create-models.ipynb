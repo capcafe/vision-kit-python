{
 "cells": [
  {
   "cell_type": "markdown",
   "id": "51eeb6a3",
   "metadata": {},
   "source": [
    "# Creating and Re-Training Models\n",
    "\n",
    "Roboflow provides you with tools to create your computer vision (CV) models.\n",
    "\n",
    "Creating robust CV models is centered around gathering a representative dataset and iterating on that dataset as your model needs to improve.\n",
    "\n",
    "In this notebook, we're going to start with a blood cell dataset that has been overfit to run inference on images from a particular microscope. We'll add more data to the dataset to improve the model's ability to generalize and identify blood cells on different tasks.\n",
    "\n",
    "Let's walk through an example of retraining a computer vision model on Roboflow to fix a prediction error."
   ]
  },
  {
   "cell_type": "code",
   "execution_count": 4,
   "id": "da1f8283",
   "metadata": {},
   "outputs": [
    {
     "name": "stdout",
     "output_type": "stream",
     "text": [
      "\r",
      "You are already logged into Roboflow. To make a different login, run roboflow.login(force=True).\n"
     ]
    }
   ],
   "source": [
    "import roboflow\n",
    "roboflow.login()"
   ]
  },
  {
   "cell_type": "markdown",
   "id": "5230fc0f",
   "metadata": {},
   "source": [
    "First, let's load our model and run inference on an example image. All of the dataset images come from the same microscope view visualized below."
   ]
  },
  {
   "cell_type": "code",
   "execution_count": 2,
   "id": "5588f49b",
   "metadata": {},
   "outputs": [
    {
     "name": "stdout",
     "output_type": "stream",
     "text": [
      "loading Roboflow workspace...\n",
      "loading Roboflow project...\n"
     ]
    },
    {
     "data": {
      "image/png": "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