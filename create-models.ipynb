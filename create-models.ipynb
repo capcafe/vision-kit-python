{
 "cells": [
  {
   "cell_type": "markdown",
   "id": "51eeb6a3",
   "metadata": {},
   "source": [
    "# Creating and Re-Training Models\n",
    "\n",
    "Roboflow provides you with tools to create your computer vision (CV) models.\n",
    "\n",
    "Creating robust CV models is centered around gathering a representative dataset and iterating on that dataset as your model needs to improve.\n",
    "\n",
    "In this notebook, we're going to start with a blood cell dataset that h