{
 "cells": [
  {
   "cell_type": "markdown",
   "id": "51eeb6a3",
   "metadata": {},
   "source": [
    "# Creating and Re-Training Models\n",
    "\n",
    "Roboflow provides you with tools to create your computer vision (CV) models.\n",
    "\n",
    "Creating robust CV models is centered around gathering a representative dataset and iterating on that dataset as your model needs to improve.\n",
    "\n",
    "In this notebook, we're going to start with a blood cell dataset that has been overfit to run inference on images from a particular microscope. We'll add more data to the dataset to improve the model's ability to generalize and identify blood cells on different tasks.\n",
    "\n",
    "Let's walk through an example of retraining a computer vision model on Roboflow to fix a prediction error."
   ]
  },
  {
   "cell_type": "code",
   "execution_count": 4,
   "id": "da1f8283",
   "metadata": {},
   "outputs": [
    {
     "name": "stdout",
     "output_type": "stream",
     "text": [
      "\r",
      "You are already logged into Roboflow. To make a different login, run roboflow.login(force=True).\n"
     ]
    }
   ],
   "source": [
    "import roboflow\n",
    "roboflow.login()"
   ]
  },
  {
   "cell_type": "markdown",
   "id": "5230fc0f",
   "metadata": {},
   "source": [
    "First, let's load our model and run inference on an example image. All of the dataset images come from the same microscope view visualized below."
   ]
  },
  {
   "cell_type": "code",
   "execution_count": 2,
   "id": "5588f49b",
   "metadata": {},
   "outputs": [
    {
     "name": "stdout",
     "output_type": "stream",
     "text": [
      "loading Roboflow workspace...\n",
      "loading Roboflow project...\n"
     ]
    },
    {
     "data": {
      "image/png": "iVBORw0KGgoAAAANSUhEUgAAAiUAAAGiCAYAAAA4MLYWAAAAOXRFWHRTb2Z0d2FyZQBNYXRwbG90bGliIHZlcnNpb24zLjUuMiwgaHR0cHM6Ly9tYXRwbG90bGliLm9yZy8qNh9FAAAACXBIWXMAAA9hAAAPYQGoP6dpAAEAAElEQVR4nOz9W6i2XZ