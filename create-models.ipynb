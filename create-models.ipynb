{
 "cells": [
  {
   "cell_type": "markdown",
   "id": "51eeb6a3",
   "metadata": {},
   "source": [
    "# Creating and Re-Training Models\n",
    "\n",
    "Roboflow provides you with tools to create your computer vision (CV) models.\n",
    "\n",
    "Creating robust CV models is centered around gathering a representative dataset and iterating on that dataset as your model needs to improve.\n",
    "\n",
    "In this notebook, we're going to start with a blood cell dataset that has been overfit to run inference on images from a particular microscope. We'll add more data to the dataset to improve the model's ability to generalize and identify blood cells on different tasks.\n",
    "\n",
    "Let's walk through an example of retraining a computer vision model on Roboflow to fix a prediction error."
   ]
  },
  {
   "cell_type": "code",
   "execution_count": 4,
   "id": "da1f8283",
   "metadata": {},
   "outputs": [
    {
     "name": "stdout",
     "output_type": "stream",
     "text": [
      "\r",
      "You are already logged into Roboflow. To make a different login, run roboflow.login(force=True).\n"
     ]
    }
   ],
   "source": [
    "import roboflow\n",
    "roboflow.login()"
   ]
  },
  {
   "cell_type": "markdown",
   "id": "5230fc0f",
   "metadata": {},
   "source": [
    "First, let's load our model and run inference on an example image. All of the dataset images come from the same microscope view visualized below."
   ]
  },
  {
   "cell_type": "code",
   "execution_count": 2,
   "id": "5588f49b",
   "metadata": {},
   "outputs": [
    {
     "name": "stdout",
     "output_type": "stream",
     "text": [
      "loading Roboflow workspace...\n",
      "loading Roboflow project...\n"
     ]
    },
    {
     "data": {
      "image/png": "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